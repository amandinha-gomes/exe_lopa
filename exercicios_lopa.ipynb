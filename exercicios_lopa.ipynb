{
  "nbformat": 4,
  "nbformat_minor": 0,
  "metadata": {
    "colab": {
      "provenance": [],
      "authorship_tag": "ABX9TyPvOALNRTo88k4/6jByN3Bw",
      "include_colab_link": true
    },
    "kernelspec": {
      "name": "python3",
      "display_name": "Python 3"
    },
    "language_info": {
      "name": "python"
    }
  },
  "cells": [
    {
      "cell_type": "markdown",
      "metadata": {
        "id": "view-in-github",
        "colab_type": "text"
      },
      "source": [
        "<a href=\"https://colab.research.google.com/github/amandinha-gomes/exe_lopa/blob/main/exercicios_lopa.ipynb\" target=\"_parent\"><img src=\"https://colab.research.google.com/assets/colab-badge.svg\" alt=\"Open In Colab\"/></a>"
      ]
    },
    {
      "cell_type": "code",
      "execution_count": 1,
      "metadata": {
        "colab": {
          "base_uri": "https://localhost:8080/"
        },
        "id": "PZLBJI3XoGTw",
        "outputId": "fd75dab8-4249-4a53-a4e2-11726206de7e"
      },
      "outputs": [
        {
          "output_type": "stream",
          "name": "stdout",
          "text": [
            "digite seu salario: 1500\n",
            "seu novo salario é 3001.15\n"
          ]
        }
      ],
      "source": [
        "salario = float(input('digite seu salario: '))\n",
        "\n",
        "if salario < 1000:\n",
        "    novo_salario = (salario * 1.25) + salario\n",
        "\n",
        "elif 1000 <= salario < 2000:\n",
        "    novo_salario = (salario + 1.15) + salario\n",
        "\n",
        "elif salario >= 2000:\n",
        "    novo_salario = salario * 1.10\n",
        "\n",
        "print(f'seu novo salario é {novo_salario}')"
      ]
    },
    {
      "cell_type": "code",
      "source": [
        "def calcular_media(nota1, nota2):\n",
        "    media = (nota1 + nota2) / 2\n",
        "    if media <= 3:\n",
        "        mensagem = \"Reprovado\"\n",
        "    elif media <= 7:\n",
        "        mensagem = \"Exame\"\n",
        "    else:\n",
        "        mensagem = \"Aprovado\"\n",
        "    return media, mensagem\n",
        "\n",
        "aprovados = 0\n",
        "exame = 0\n",
        "reprovados = 0\n",
        "soma_todas_as_medias = 0\n",
        "\n",
        "for i in range(1, 7):\n",
        "    print(f\"Aluno {i}:\")\n",
        "    nota1 = float(input(\"Digite a primeira nota: \"))\n",
        "    nota2 = float(input(\"Digite a segunda nota: \"))\n",
        "\n",
        " # Calculando média e mensagem\n",
        "    media, mensagem = calcular_media(nota1, nota2)\n",
        "\n",
        "    # Contabilizando os resultados\n",
        "    if mensagem == \"Aprovado\":\n",
        "        aprovados += 1\n",
        "    elif mensagem == \"Exame\":\n",
        "        exame += 1\n",
        "    else:\n",
        "        reprovados += 1\n",
        "\n",
        "    # Somando a média para o cálculo da média da classe\n",
        "    soma_todas_as_medias += media\n",
        "\n",
        "    # Exibindo o resultado para o aluno\n",
        "    print(f\"Média do aluno {i}: {media:.2f} - {mensagem}\\n\") #:.2f significa que queremos exibir o valor da média com 2 casas decimais após a vírgula. O . indica que vamos formatar o número com casas decimais. O 2f significa \"2 casas decimais, formato de ponto flutuante\".\n",
        "\n",
        "# Calculando a média da classe\n",
        "media_classe = soma_todas_as_medias / 6\n",
        "\n",
        "# Exibindo os totais\n",
        "print(f\"\\nTotal de alunos Aprovados: {aprovados}\")\n",
        "print(f\"Total de alunos de Exame: {exame}\")\n",
        "print(f\"Total de alunos Reprovados: {reprovados}\")\n",
        "print(f\"Média da classe: {media_classe:.2f}\")\n"
      ],
      "metadata": {
        "colab": {
          "base_uri": "https://localhost:8080/"
        },
        "id": "ozq5SCwAoNHI",
        "outputId": "e4d362f8-920d-45f8-af57-6f0a2c7a1232"
      },
      "execution_count": 2,
      "outputs": [
        {
          "output_type": "stream",
          "name": "stdout",
          "text": [
            "Aluno 1:\n",
            "Digite a primeira nota: 7\n",
            "Digite a segunda nota: 6\n",
            "Média do aluno 1: 6.50 - Exame\n",
            "\n",
            "Aluno 2:\n",
            "Digite a primeira nota: 8\n",
            "Digite a segunda nota: 7\n",
            "Média do aluno 2: 7.50 - Aprovado\n",
            "\n",
            "Aluno 3:\n",
            "Digite a primeira nota: 6\n",
            "Digite a segunda nota: 9\n",
            "Média do aluno 3: 7.50 - Aprovado\n",
            "\n",
            "Aluno 4:\n",
            "Digite a primeira nota: 6\n",
            "Digite a segunda nota: 10\n",
            "Média do aluno 4: 8.00 - Aprovado\n",
            "\n",
            "Aluno 5:\n",
            "Digite a primeira nota: 4\n",
            "Digite a segunda nota: 9\n",
            "Média do aluno 5: 6.50 - Exame\n",
            "\n",
            "Aluno 6:\n",
            "Digite a primeira nota: 10\n",
            "Digite a segunda nota: 7\n",
            "Média do aluno 6: 8.50 - Aprovado\n",
            "\n",
            "\n",
            "Total de alunos Aprovados: 4\n",
            "Total de alunos de Exame: 2\n",
            "Total de alunos Reprovados: 0\n",
            "Média da classe: 7.42\n"
          ]
        }
      ]
    },
    {
      "cell_type": "code",
      "source": [
        "#exercício 1\n",
        "n1 = float(input('Insira a primeira nota:'))\n",
        "n2 = float(input('Insira a segunda nota:'))\n",
        "n3 = float(input('Insira a terceira nota:'))\n",
        "n4 = float(input('Insira a quarta nota:'))\n",
        "n5 = float(input('Insira a quinta nota:'))\n",
        "\n",
        "media = (n1+n2+n3+n4+n5) /5\n",
        "\n",
        "print(f'A média do aluno é: {media}')"
      ],
      "metadata": {
        "id": "ylmAAdqBoddX"
      },
      "execution_count": null,
      "outputs": []
    },
    {
      "cell_type": "code",
      "source": [
        "#exercício 2\n",
        "valor_real = float(input('Insira um valor em real: '))\n",
        "valor_dolar = 0.1751\n",
        "\n",
        "resultado_conversao = valor_real * valor_dolar\n",
        "\n",
        "print(f'O valor de R${valor_real:,.2f} equivale a ${resultado_conversao:,.2f} USD')"
      ],
      "metadata": {
        "id": "WQ8vVTNvo6ae"
      },
      "execution_count": null,
      "outputs": []
    },
    {
      "cell_type": "code",
      "source": [
        "#exercício 3\n",
        "salario_atual = float(input('Insira o salário atual do funcionário: '))\n",
        "aumento_porcentagem = 0.25\n",
        "\n",
        "aumento_salarial = salario_atual * aumento_porcentagem\n",
        "\n",
        "salario_novo = salario_atual + aumento_salarial\n",
        "\n",
        "print(f'O salário do funcionário com aumento de 25% é: R${salario_novo:,.2f}')"
      ],
      "metadata": {
        "id": "QbKjIMh2o7UN"
      },
      "execution_count": null,
      "outputs": []
    },
    {
      "cell_type": "code",
      "source": [
        "#exercício 5\n",
        "numero_pes = float(input('Insira um número em Pés: '))\n",
        "numero_polegadas = numero_pes * 12\n",
        "numero_jarda = numero_pes / 3\n",
        "numero_milha = numero_pes * 5280\n",
        "\n",
        "print(f'Polegadas: {numero_milha}')\n",
        "print(f'Jardas: {numero_jarda}')\n",
        "print(f'Milhas: {numero_milha}')"
      ],
      "metadata": {
        "id": "7TS3tie9o7uW"
      },
      "execution_count": null,
      "outputs": []
    },
    {
      "cell_type": "code",
      "source": [
        "#exercício 8\n",
        "idade = int(input('Insira uma idade: '))\n",
        "\n",
        "if idade <= 12:\n",
        "    print('É uma criança🧒')\n",
        "elif idade >= 13 and idade <= 17:\n",
        "    print('É um adolescente😎')\n",
        "elif idade >= 18 and idade <= 59:\n",
        "    print('É um adulto👨')\n",
        "elif idade >= 60:\n",
        "    print('É um idoso👴')"
      ],
      "metadata": {
        "id": "vu9UbvBUo8Cn"
      },
      "execution_count": null,
      "outputs": []
    },
    {
      "cell_type": "code",
      "source": [
        "#exercício 9\n",
        "profissoes = ['Matemático', 'Analista de Sistemas', 'Físico', 'Arquiteto', 'Piloto de Aeronaves']\n",
        "\n",
        "numero = int(input(\"Digite um número de 1 a 5 para escolher uma profissão: \"))\n",
        "\n",
        "if 1 <= numero <= 5:\n",
        "    print(f\"A profissão escolhida é: {profissoes[numero - 1]}\")\n",
        "else:\n",
        "    print(\"Número inválido! Por favor, escolha um número de 1 a 5.\")\n"
      ],
      "metadata": {
        "id": "3vxZbGM7o8Ut"
      },
      "execution_count": null,
      "outputs": []
    },
    {
      "cell_type": "code",
      "source": [
        "#exercício 11\n",
        "lanches = ['Big Mac', 'Quarteirão', 'McChicken', 'Cheddar McMelt', 'McMax']\n",
        "\n",
        "numero = int(input(\"Digite um número de 1 a 5 para escolher um lanche: \"))\n",
        "\n",
        "if 1 <= numero <= 5:\n",
        "    print(f\"O lanche escolhido foi: {lanches[numero - 1]}\")\n",
        "else:\n",
        "    print(\"Número inválido! Por favor, escolha um número de 1 a 5.\")\n"
      ],
      "metadata": {
        "id": "n8Fnj0Nso8q2"
      },
      "execution_count": null,
      "outputs": []
    },
    {
      "cell_type": "code",
      "source": [
        "#exercício 12\n",
        "imc = float(input('Insira uma número imc: '))\n",
        "\n",
        "if imc <= 18:\n",
        "    print('Magreza')\n",
        "elif imc >= 18.1 and imc <= 24.9:\n",
        "    print('Saudável')\n",
        "elif imc >= 25 and imc <= 29.9:\n",
        "    print('Sobrepeso')\n",
        "elif imc >= 30:\n",
        "    print('Obesidade')"
      ],
      "metadata": {
        "id": "xmHDI6mHpMCP"
      },
      "execution_count": null,
      "outputs": []
    },
    {
      "cell_type": "code",
      "source": [],
      "metadata": {
        "id": "HS8iBTempMQ9"
      },
      "execution_count": null,
      "outputs": []
    }
  ]
}